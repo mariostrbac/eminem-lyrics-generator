{
 "cells": [
  {
   "cell_type": "markdown",
   "metadata": {
    "id": "JN_otP9YqR_A"
   },
   "source": [
    "<div align=\"center\">\n",
    "  <h1>4b - Lyrics Generation - GPT-2</h1> <a name=\"0-bullet\"></a>\n",
    "</div>"
   ]
  },
  {
   "cell_type": "markdown",
   "metadata": {
    "id": "K4IZbJANc1bD"
   },
   "source": [
    "- [1. Setup](#1-bullet)\n",
    "    * [1.1 Set the working directory](#11-bullet)\n",
    "    * [1.2 Load the data](#12-bullet)\n",
    "- [2. Preprocess the data](#2-bullet)\n",
    "    * [2.1 Prepare the corpus](#21-bullet)\n",
    "- [3. Download the model](#3-bullet)\n",
    "- [4. Fine-tune the model](#4-bullet)\n",
    "- [5. Load the model](#5-bullet)\n",
    "- [6. Lyrics generation](#6-bullet)\n",
    "    * [6.1 Generate lyrics](#61-bullet)\n",
    "    * [6.2 Calculate lyrics similarity](#62-bullet)\n",
    "    * [6.3 Store lyrics to a text file](#63-bullet)\n",
    "\n",
    "> References: \n",
    "> * [github.com/minimaxir/gpt-2-simple](https://github.com/minimaxir/gpt-2-simple)"
   ]
  },
  {
   "cell_type": "markdown",
   "metadata": {
    "id": "U0I3ylib_7qT"
   },
   "source": [
    "---"
   ]
  },
  {
   "cell_type": "markdown",
   "metadata": {
    "id": "9Z3hPPo08rLY"
   },
   "source": [
    "You may have to install:\n",
    "\n",
    "> `!pip install pickle5` <br>\n",
    "  `!pip install gpt-2-simple`"
   ]
  },
  {
   "cell_type": "code",
   "execution_count": null,
   "metadata": {
    "colab": {
     "base_uri": "https://localhost:8080/"
    },
    "executionInfo": {
     "elapsed": 7335,
     "status": "ok",
     "timestamp": 1615816190506,
     "user": {
      "displayName": "Mario Štrbac",
      "photoUrl": "",
      "userId": "03507842523962903593"
     },
     "user_tz": -60
    },
    "id": "cGpUlPoOqZFt",
    "outputId": "2342573e-b508-43da-a597-454b380e902f"
   },
   "outputs": [
    {
     "name": "stdout",
     "output_type": "stream",
     "text": [
      "TensorFlow 1.x selected.\n",
      "WARNING:tensorflow:\n",
      "The TensorFlow contrib module will not be included in TensorFlow 2.0.\n",
      "For more information, please see:\n",
      "  * https://github.com/tensorflow/community/blob/master/rfcs/20180907-contrib-sunset.md\n",
      "  * https://github.com/tensorflow/addons\n",
      "  * https://github.com/tensorflow/io (for I/O related ops)\n",
      "If you depend on functionality not listed there, please file an issue.\n",
      "\n"
     ]
    }
   ],
   "source": [
    "import os\n",
    "import json\n",
    "import time\n",
    "import pickle5 as pickle\n",
    "\n",
    "import numpy as np\n",
    "import pandas as pd\n",
    "\n",
    "from sklearn.feature_extraction.text import TfidfVectorizer\n",
    "\n",
    "%tensorflow_version 1.x\n",
    "import gpt_2_simple as gpt2\n",
    "import tensorflow as tf"
   ]
  },
  {
   "cell_type": "markdown",
   "metadata": {
    "id": "HRSw3NfyOuD0"
   },
   "source": [
    "---"
   ]
  },
  {
   "cell_type": "markdown",
   "metadata": {
    "id": "0GHO6lfPqPqh"
   },
   "source": [
    "# 1. Setup <a name=\"1-bullet\"></a> <a href=\"#0-bullet\"> <sup><sup><sup>^</sup></sup></sup></a>"
   ]
  },
  {
   "cell_type": "markdown",
   "metadata": {
    "id": "L2A8WDZhrFbm"
   },
   "source": [
    "## 1.1 Set the working directory  <a name=\"11-bullet\"></a>"
   ]
  },
  {
   "cell_type": "code",
   "execution_count": null,
   "metadata": {
    "colab": {
     "base_uri": "https://localhost:8080/"
    },
    "executionInfo": {
     "elapsed": 19671,
     "status": "ok",
     "timestamp": 1615816230515,
     "user": {
      "displayName": "Mario Štrbac",
      "photoUrl": "",
      "userId": "03507842523962903593"
     },
     "user_tz": -60
    },
    "id": "i06FDHCBrD3E",
    "outputId": "9f47ec5f-83dc-4721-e915-7db3eb5ca59a"
   },
   "outputs": [
    {
     "name": "stdout",
     "output_type": "stream",
     "text": [
      "Mounted at /content/gdrive\n",
      "/content/gdrive/My Drive\n",
      "/content/gdrive/My Drive/eminem-lyrics-generator/notebooks\n"
     ]
    }
   ],
   "source": [
    "ROOT_DIR = \"./eminem-lyrics-generator/notebooks/\" \n",
    "IN_GOOGLE_COLAB = True\n",
    "\n",
    "if IN_GOOGLE_COLAB:\n",
    "    # mount google drive\n",
    "    from google.colab import drive\n",
    "    drive.mount('/content/gdrive')\n",
    "\n",
    "    # change the current working directory\n",
    "    %cd gdrive/'My Drive'\n",
    "\n",
    "    # create a root directory if there's none\n",
    "    if not os.path.isdir(ROOT_DIR):\n",
    "        %mkdir $ROOT_DIR\n",
    "\n",
    "    # change the current working directory\n",
    "    %cd $ROOT_DIR"
   ]
  },
  {
   "cell_type": "markdown",
   "metadata": {
    "id": "uTXwodM4rhhp"
   },
   "source": [
    "## 1.2 Load the data  <a name=\"12-bullet\"></a>"
   ]
  },
  {
   "cell_type": "code",
   "execution_count": null,
   "metadata": {
    "id": "7LH4E_6NUOg0"
   },
   "outputs": [],
   "source": [
    "# specifies paths to all files in the project\n",
    "SETTINGS_FILE_PATH = os.path.join(os.path.abspath(\"..\"), 'SETTINGS.json')\n",
    "settings = json.load(open(SETTINGS_FILE_PATH))"
   ]
  },
  {
   "cell_type": "code",
   "execution_count": null,
   "metadata": {
    "id": "vssYsWcorSyj"
   },
   "outputs": [],
   "source": [
    "DATA_FILE_DIR = settings['LYRICS_DF_SONGS_PATH']      # 'LYRICS_DF_ALL_PATH' or 'LYRICS_DF_SONGS_PATH'\n",
    "\n",
    "with open(DATA_FILE_DIR, 'rb') as f:\n",
    "    eminem_df = pickle.load(f)"
   ]
  },
  {
   "cell_type": "code",
   "execution_count": null,
   "metadata": {
    "colab": {
     "base_uri": "https://localhost:8080/",
     "height": 424
    },
    "executionInfo": {
     "elapsed": 474,
     "status": "ok",
     "timestamp": 1615816248960,
     "user": {
      "displayName": "Mario Štrbac",
      "photoUrl": "",
      "userId": "03507842523962903593"
     },
     "user_tz": -60
    },
    "id": "pEf37qSEUSGR",
    "outputId": "bba4c8a9-bd73-4fe0-c473-b2628715e6d8"
   },
   "outputs": [
    {
     "data": {
      "text/html": [
       "<div>\n",
       "<style scoped>\n",
       "    .dataframe tbody tr th:only-of-type {\n",
       "        vertical-align: middle;\n",
       "    }\n",
       "\n",
       "    .dataframe tbody tr th {\n",
       "        vertical-align: top;\n",
       "    }\n",
       "\n",
       "    .dataframe thead th {\n",
       "        text-align: right;\n",
       "    }\n",
       "</style>\n",
       "<table border=\"1\" class=\"dataframe\">\n",
       "  <thead>\n",
       "    <tr style=\"text-align: right;\">\n",
       "      <th></th>\n",
       "      <th>title</th>\n",
       "      <th>lyrics</th>\n",
       "    </tr>\n",
       "  </thead>\n",
       "  <tbody>\n",
       "    <tr>\n",
       "      <th>0</th>\n",
       "      <td>Rap God</td>\n",
       "      <td>[Intro]\n",
       "\"Look, I was gonna go easy on you not ...</td>\n",
       "    </tr>\n",
       "    <tr>\n",
       "      <th>1</th>\n",
       "      <td>Killshot</td>\n",
       "      <td>[Intro]\n",
       "You sound like a bitch, bitch\n",
       "Shut the...</td>\n",
       "    </tr>\n",
       "    <tr>\n",
       "      <th>2</th>\n",
       "      <td>Godzilla</td>\n",
       "      <td>[Intro]\n",
       "Ugh, you're a monster\n",
       "\n",
       "[Verse 1: Emine...</td>\n",
       "    </tr>\n",
       "    <tr>\n",
       "      <th>3</th>\n",
       "      <td>Lose Yourself</td>\n",
       "      <td>[Intro]\n",
       "Look, if you had one shot or one oppor...</td>\n",
       "    </tr>\n",
       "    <tr>\n",
       "      <th>4</th>\n",
       "      <td>The Monster</td>\n",
       "      <td>[Intro: Rihanna]\n",
       "I'm friends with the monster ...</td>\n",
       "    </tr>\n",
       "    <tr>\n",
       "      <th>...</th>\n",
       "      <td>...</td>\n",
       "      <td>...</td>\n",
       "    </tr>\n",
       "    <tr>\n",
       "      <th>372</th>\n",
       "      <td>Rap Game (Bump Heads)</td>\n",
       "      <td>[Intro: Eminem, DJ Butter &amp; D12 Member]\n",
       "I am n...</td>\n",
       "    </tr>\n",
       "    <tr>\n",
       "      <th>373</th>\n",
       "      <td>Whoo Kid Freestyle</td>\n",
       "      <td>Step right up, i'm about to light up the skyli...</td>\n",
       "    </tr>\n",
       "    <tr>\n",
       "      <th>374</th>\n",
       "      <td>Hit ’Em Up</td>\n",
       "      <td>[Intro]\n",
       "\n",
       "\"Aiyyo Head, that's why I fucked your...</td>\n",
       "    </tr>\n",
       "    <tr>\n",
       "      <th>375</th>\n",
       "      <td>The Wake Up Show Freestyle</td>\n",
       "      <td>[Verse 1]\n",
       "Met a retarded kid named Greg with a...</td>\n",
       "    </tr>\n",
       "    <tr>\n",
       "      <th>376</th>\n",
       "      <td>Public Service Announcement 2013</td>\n",
       "      <td>Due to a massive amount of bootlegging and con...</td>\n",
       "    </tr>\n",
       "  </tbody>\n",
       "</table>\n",
       "<p>377 rows × 2 columns</p>\n",
       "</div>"
      ],
      "text/plain": [
       "                                title                                             lyrics\n",
       "0                             Rap God  [Intro]\n",
       "\"Look, I was gonna go easy on you not ...\n",
       "1                            Killshot  [Intro]\n",
       "You sound like a bitch, bitch\n",
       "Shut the...\n",
       "2                            Godzilla  [Intro]\n",
       "Ugh, you're a monster\n",
       "\n",
       "[Verse 1: Emine...\n",
       "3                       Lose Yourself  [Intro]\n",
       "Look, if you had one shot or one oppor...\n",
       "4                         The Monster  [Intro: Rihanna]\n",
       "I'm friends with the monster ...\n",
       "..                                ...                                                ...\n",
       "372             Rap Game (Bump Heads)  [Intro: Eminem, DJ Butter & D12 Member]\n",
       "I am n...\n",
       "373                Whoo Kid Freestyle  Step right up, i'm about to light up the skyli...\n",
       "374                        Hit ’Em Up  [Intro]\n",
       "\n",
       "\"Aiyyo Head, that's why I fucked your...\n",
       "375        The Wake Up Show Freestyle  [Verse 1]\n",
       "Met a retarded kid named Greg with a...\n",
       "376  Public Service Announcement 2013  Due to a massive amount of bootlegging and con...\n",
       "\n",
       "[377 rows x 2 columns]"
      ]
     },
     "execution_count": 6,
     "metadata": {
      "tags": []
     },
     "output_type": "execute_result"
    }
   ],
   "source": [
    "eminem_df"
   ]
  },
  {
   "cell_type": "markdown",
   "metadata": {
    "id": "T5S3i1ber0Oe"
   },
   "source": [
    "# 2. Preprocess the data <a name=\"2-bullet\"></a> <a href=\"#0-bullet\"> <sup><sup><sup>^</sup></sup></sup></a>"
   ]
  },
  {
   "cell_type": "markdown",
   "metadata": {
    "id": "Uzzkcj1lr4d9"
   },
   "source": [
    "## 2.1 Prepare the corpus <a name=\"21-bullet\"></a>"
   ]
  },
  {
   "cell_type": "markdown",
   "metadata": {
    "id": "0FvkCJntr9L6"
   },
   "source": [
    "### a) filter out songs with no section headers in the lyrics"
   ]
  },
  {
   "cell_type": "code",
   "execution_count": null,
   "metadata": {
    "id": "CXXGaLjar_0j"
   },
   "outputs": [],
   "source": [
    "has_section_headers = eminem_df.lyrics.apply(lambda lyrics: \"[\" in lyrics )\n",
    "eminem_df = eminem_df[has_section_headers].reset_index(drop=True)"
   ]
  },
  {
   "cell_type": "markdown",
   "metadata": {
    "id": "yBEdQft4sCma"
   },
   "source": [
    "### b) add titles to the beginning of lyrics"
   ]
  },
  {
   "cell_type": "code",
   "execution_count": null,
   "metadata": {
    "id": "E-KrQ90fsE8w"
   },
   "outputs": [],
   "source": [
    "eminem_lyrics_df = eminem_df.apply(lambda row: \"[Title]\\n\" + row.title + \"\\n\\n\" + row.lyrics, axis=1)"
   ]
  },
  {
   "cell_type": "markdown",
   "metadata": {
    "id": "FJz_8NXyDHx7"
   },
   "source": [
    "### c) replace triple newlines with double newlines "
   ]
  },
  {
   "cell_type": "code",
   "execution_count": null,
   "metadata": {
    "id": "kEey2xFnDHT4"
   },
   "outputs": [],
   "source": [
    "eminem_lyrics_df = eminem_lyrics_df.apply(lambda lyrics: lyrics.replace('\\n\\n\\n', '\\n\\n'))"
   ]
  },
  {
   "cell_type": "markdown",
   "metadata": {
    "id": "SYfgOjbk2mV4"
   },
   "source": [
    "### d) store to a csv file"
   ]
  },
  {
   "cell_type": "code",
   "execution_count": null,
   "metadata": {
    "id": "NSG0vZyV1Xik"
   },
   "outputs": [],
   "source": [
    "FILE_NAME = settings['GPT2_TRAIN_DATA_CLEAN_PATH']\n",
    "eminem_lyrics_df.to_csv(FILE_NAME, index=False)"
   ]
  },
  {
   "cell_type": "markdown",
   "metadata": {
    "id": "Tcswp1npfCqd"
   },
   "source": [
    "# 3. Download the model <a name=\"3-bullet\"></a> <a href=\"#0-bullet\"> <sup><sup><sup>^</sup></sup></sup></a>"
   ]
  },
  {
   "cell_type": "code",
   "execution_count": null,
   "metadata": {
    "colab": {
     "base_uri": "https://localhost:8080/"
    },
    "executionInfo": {
     "elapsed": 20307,
     "status": "ok",
     "timestamp": 1615732760252,
     "user": {
      "displayName": "Mario Štrbac",
      "photoUrl": "",
      "userId": "03507842523962903593"
     },
     "user_tz": -60
    },
    "id": "cqwEQcPufKZk",
    "outputId": "4d2dd0cd-9f14-4918-bdb9-ccb41580060d"
   },
   "outputs": [
    {
     "name": "stderr",
     "output_type": "stream",
     "text": [
      "Fetching checkpoint: 1.05Mit [00:00, 565Mit/s]                                                      \n",
      "Fetching encoder.json: 1.05Mit [00:00, 4.94Mit/s]\n",
      "Fetching hparams.json: 1.05Mit [00:00, 370Mit/s]                                                    \n",
      "Fetching model.ckpt.data-00000-of-00001: 1.42Git [00:18, 77.2Mit/s]                                 \n",
      "Fetching model.ckpt.index: 1.05Mit [00:00, 349Mit/s]                                                \n",
      "Fetching model.ckpt.meta: 1.05Mit [00:00, 5.24Mit/s]\n",
      "Fetching vocab.bpe: 1.05Mit [00:00, 7.84Mit/s]\n"
     ]
    }
   ],
   "source": [
    "MODEL_NAME = \"355M\"       #124M, 355M\n",
    "MODELS_DIR = settings['MODELS_DIR']\n",
    "\n",
    "gpt2.download_gpt2(model_dir=MODELS_DIR, model_name=MODEL_NAME) "
   ]
  },
  {
   "cell_type": "markdown",
   "metadata": {
    "id": "qHQpvyhT232A"
   },
   "source": [
    "# 4. Fine-tune the model <a name=\"4-bullet\"></a> <a href=\"#0-bullet\"> <sup><sup><sup>^</sup></sup></sup></a>"
   ]
  },
  {
   "cell_type": "code",
   "execution_count": null,
   "metadata": {
    "colab": {
     "base_uri": "https://localhost:8080/"
    },
    "executionInfo": {
     "elapsed": 5625866,
     "status": "ok",
     "timestamp": 1615738401087,
     "user": {
      "displayName": "Mario Štrbac",
      "photoUrl": "",
      "userId": "03507842523962903593"
     },
     "user_tz": -60
    },
    "id": "EPl-8nmC3wIg",
    "outputId": "f66800d7-eeac-487f-c13b-53bdb2c93534"
   },
   "outputs": [
    {
     "name": "stdout",
     "output_type": "stream",
     "text": [
      "Loading checkpoint ../models/355M/model.ckpt\n",
      "INFO:tensorflow:Restoring parameters from ../models/355M/model.ckpt\n"
     ]
    },
    {
     "name": "stderr",
     "output_type": "stream",
     "text": [
      "100%|██████████| 1/1 [00:00<00:00, 34.69it/s]"
     ]
    },
    {
     "name": "stdout",
     "output_type": "stream",
     "text": [
      "Loading dataset...\n"
     ]
    },
    {
     "name": "stderr",
     "output_type": "stream",
     "text": [
      "\n"
     ]
    },
    {
     "name": "stdout",
     "output_type": "stream",
     "text": [
      "dataset has 413883 tokens\n",
      "Training...\n",
      "Saving ../models/355M/training_checkpoints/run1/model-0\n",
      "[5 | 18.85] loss=2.97 avg=2.97\n",
      "[10 | 29.82] loss=2.50 avg=2.73\n",
      "[15 | 40.80] loss=2.67 avg=2.71\n",
      "[20 | 51.79] loss=3.36 avg=2.88\n",
      "[25 | 62.78] loss=3.47 avg=3.00\n",
      "[30 | 73.82] loss=3.22 avg=3.04\n",
      "[35 | 84.88] loss=2.76 avg=3.00\n",
      "[40 | 95.91] loss=3.68 avg=3.08\n",
      "[45 | 106.98] loss=2.83 avg=3.06\n",
      "[50 | 118.03] loss=2.46 avg=2.99\n",
      "[55 | 129.07] loss=1.88 avg=2.89\n",
      "[60 | 140.13] loss=2.36 avg=2.84\n",
      "[65 | 151.19] loss=3.85 avg=2.92\n",
      "[70 | 162.26] loss=2.43 avg=2.88\n",
      "[75 | 173.33] loss=2.45 avg=2.85\n",
      "[80 | 184.42] loss=1.73 avg=2.78\n",
      "[85 | 195.50] loss=3.64 avg=2.83\n",
      "[90 | 206.57] loss=3.34 avg=2.86\n",
      "[95 | 217.65] loss=3.48 avg=2.90\n",
      "[100 | 228.72] loss=2.86 avg=2.90\n",
      "[105 | 239.78] loss=2.87 avg=2.90\n",
      "[110 | 250.85] loss=2.95 avg=2.90\n",
      "[115 | 261.93] loss=3.26 avg=2.92\n",
      "[120 | 272.98] loss=3.07 avg=2.92\n",
      "[125 | 284.08] loss=2.17 avg=2.89\n",
      "[130 | 295.12] loss=2.48 avg=2.87\n",
      "[135 | 306.20] loss=3.27 avg=2.89\n",
      "[140 | 317.27] loss=3.33 avg=2.91\n",
      "[145 | 328.32] loss=2.40 avg=2.89\n",
      "[150 | 339.41] loss=2.18 avg=2.86\n",
      "[155 | 350.45] loss=2.67 avg=2.85\n",
      "[160 | 361.55] loss=2.93 avg=2.85\n",
      "[165 | 372.64] loss=2.79 avg=2.85\n",
      "[170 | 383.72] loss=3.59 avg=2.88\n",
      "[175 | 394.79] loss=2.74 avg=2.87\n",
      "[180 | 405.87] loss=3.29 avg=2.89\n",
      "[185 | 416.96] loss=3.09 avg=2.89\n",
      "[190 | 428.04] loss=3.26 avg=2.91\n",
      "[195 | 439.12] loss=3.41 avg=2.92\n",
      "[200 | 450.23] loss=3.07 avg=2.93\n",
      "[205 | 461.30] loss=2.19 avg=2.90\n",
      "[210 | 472.37] loss=3.67 avg=2.93\n",
      "[215 | 483.48] loss=2.92 avg=2.93\n",
      "[220 | 494.56] loss=2.79 avg=2.92\n",
      "[225 | 505.61] loss=3.85 avg=2.95\n",
      "[230 | 516.69] loss=2.58 avg=2.94\n",
      "[235 | 527.76] loss=2.84 avg=2.93\n",
      "[240 | 538.83] loss=2.84 avg=2.93\n",
      "[245 | 549.90] loss=2.95 avg=2.93\n",
      "[250 | 560.96] loss=2.80 avg=2.93\n",
      "[255 | 572.01] loss=1.99 avg=2.91\n",
      "[260 | 583.06] loss=2.53 avg=2.90\n",
      "[265 | 594.15] loss=2.72 avg=2.89\n",
      "[270 | 605.24] loss=3.54 avg=2.91\n",
      "[275 | 616.31] loss=2.40 avg=2.90\n",
      "[280 | 627.38] loss=2.05 avg=2.88\n",
      "[285 | 638.44] loss=2.26 avg=2.86\n",
      "[290 | 649.51] loss=2.51 avg=2.85\n",
      "[295 | 660.60] loss=2.83 avg=2.85\n",
      "[300 | 671.72] loss=3.56 avg=2.87\n",
      "[305 | 682.79] loss=2.95 avg=2.87\n",
      "[310 | 693.87] loss=2.33 avg=2.86\n",
      "[315 | 704.94] loss=2.79 avg=2.86\n",
      "[320 | 716.01] loss=2.66 avg=2.85\n",
      "[325 | 727.08] loss=2.95 avg=2.86\n",
      "[330 | 738.16] loss=1.80 avg=2.83\n",
      "[335 | 749.23] loss=1.68 avg=2.81\n",
      "[340 | 760.31] loss=2.93 avg=2.81\n",
      "[345 | 771.38] loss=2.06 avg=2.80\n",
      "[350 | 782.45] loss=2.79 avg=2.80\n",
      "[355 | 793.52] loss=3.30 avg=2.81\n",
      "[360 | 804.61] loss=2.29 avg=2.80\n",
      "[365 | 815.68] loss=3.16 avg=2.80\n",
      "[370 | 826.75] loss=3.27 avg=2.81\n",
      "[375 | 837.85] loss=2.10 avg=2.80\n",
      "[380 | 848.91] loss=1.41 avg=2.77\n",
      "[385 | 859.98] loss=2.63 avg=2.77\n",
      "[390 | 871.06] loss=2.60 avg=2.77\n",
      "[395 | 882.16] loss=2.74 avg=2.77\n",
      "[400 | 893.23] loss=1.78 avg=2.75\n",
      "[405 | 904.30] loss=2.08 avg=2.74\n",
      "[410 | 915.36] loss=2.95 avg=2.74\n",
      "[415 | 926.43] loss=2.55 avg=2.74\n",
      "[420 | 937.53] loss=3.05 avg=2.74\n",
      "[425 | 948.60] loss=2.38 avg=2.74\n",
      "[430 | 959.70] loss=2.19 avg=2.73\n",
      "[435 | 970.77] loss=1.45 avg=2.71\n",
      "[440 | 981.83] loss=2.70 avg=2.71\n",
      "[445 | 992.89] loss=2.66 avg=2.70\n",
      "[450 | 1003.94] loss=2.56 avg=2.70\n",
      "[455 | 1015.01] loss=2.65 avg=2.70\n",
      "[460 | 1026.08] loss=3.09 avg=2.71\n",
      "[465 | 1037.15] loss=2.15 avg=2.70\n",
      "[470 | 1048.25] loss=1.82 avg=2.68\n",
      "[475 | 1059.33] loss=2.79 avg=2.69\n",
      "[480 | 1070.43] loss=2.61 avg=2.68\n",
      "[485 | 1081.52] loss=2.20 avg=2.68\n",
      "[490 | 1092.59] loss=3.03 avg=2.68\n",
      "[495 | 1103.68] loss=2.81 avg=2.68\n",
      "[500 | 1114.79] loss=3.81 avg=2.70\n",
      "[505 | 1125.89] loss=3.29 avg=2.71\n",
      "[510 | 1136.97] loss=1.97 avg=2.70\n",
      "[515 | 1148.05] loss=2.47 avg=2.70\n",
      "[520 | 1159.12] loss=1.97 avg=2.69\n",
      "[525 | 1170.21] loss=3.14 avg=2.69\n",
      "[530 | 1181.31] loss=1.63 avg=2.68\n",
      "[535 | 1192.40] loss=2.02 avg=2.67\n",
      "[540 | 1203.48] loss=2.69 avg=2.67\n",
      "[545 | 1214.57] loss=0.94 avg=2.64\n",
      "[550 | 1225.69] loss=2.27 avg=2.63\n",
      "[555 | 1236.75] loss=1.54 avg=2.62\n",
      "[560 | 1247.83] loss=2.15 avg=2.61\n",
      "[565 | 1258.94] loss=1.62 avg=2.60\n",
      "[570 | 1270.02] loss=1.79 avg=2.59\n",
      "[575 | 1281.11] loss=2.74 avg=2.59\n",
      "[580 | 1292.20] loss=2.65 avg=2.59\n",
      "[585 | 1303.26] loss=1.84 avg=2.58\n",
      "[590 | 1314.33] loss=2.78 avg=2.58\n",
      "[595 | 1325.44] loss=2.43 avg=2.58\n",
      "[600 | 1336.53] loss=2.78 avg=2.58\n",
      "[605 | 1347.60] loss=2.50 avg=2.58\n",
      "[610 | 1358.70] loss=1.83 avg=2.57\n",
      "[615 | 1369.76] loss=1.61 avg=2.56\n",
      "[620 | 1380.83] loss=2.80 avg=2.56\n",
      "[625 | 1391.90] loss=1.39 avg=2.54\n",
      "[630 | 1402.99] loss=2.20 avg=2.54\n",
      "[635 | 1414.04] loss=1.49 avg=2.52\n",
      "[640 | 1425.15] loss=1.54 avg=2.51\n",
      "[645 | 1436.24] loss=2.42 avg=2.51\n",
      "[650 | 1447.31] loss=1.42 avg=2.49\n",
      "[655 | 1458.41] loss=1.32 avg=2.48\n",
      "[660 | 1469.51] loss=1.42 avg=2.46\n",
      "[665 | 1480.59] loss=2.93 avg=2.47\n",
      "[670 | 1491.67] loss=2.47 avg=2.47\n",
      "[675 | 1502.74] loss=1.23 avg=2.45\n",
      "[680 | 1513.84] loss=1.60 avg=2.44\n",
      "[685 | 1524.93] loss=1.73 avg=2.43\n",
      "[690 | 1536.02] loss=0.82 avg=2.41\n",
      "[695 | 1547.13] loss=1.54 avg=2.40\n",
      "[700 | 1558.20] loss=1.82 avg=2.39\n",
      "[705 | 1569.28] loss=1.99 avg=2.39\n",
      "[710 | 1580.37] loss=1.93 avg=2.38\n",
      "[715 | 1591.44] loss=1.87 avg=2.37\n",
      "[720 | 1602.50] loss=2.18 avg=2.37\n",
      "[725 | 1613.59] loss=2.74 avg=2.38\n",
      "[730 | 1624.68] loss=2.58 avg=2.38\n",
      "[735 | 1635.76] loss=1.83 avg=2.37\n",
      "[740 | 1646.86] loss=1.33 avg=2.36\n",
      "[745 | 1657.95] loss=1.44 avg=2.35\n",
      "[750 | 1669.04] loss=1.28 avg=2.33\n",
      "[755 | 1680.11] loss=2.35 avg=2.33\n",
      "[760 | 1691.18] loss=1.49 avg=2.32\n",
      "[765 | 1702.27] loss=2.90 avg=2.33\n",
      "[770 | 1713.34] loss=1.99 avg=2.32\n",
      "[775 | 1724.41] loss=3.49 avg=2.34\n",
      "[780 | 1735.49] loss=0.78 avg=2.32\n",
      "[785 | 1746.55] loss=2.48 avg=2.32\n",
      "[790 | 1757.63] loss=3.01 avg=2.33\n",
      "[795 | 1768.71] loss=2.81 avg=2.34\n",
      "[800 | 1779.77] loss=0.99 avg=2.32\n",
      "[805 | 1790.83] loss=2.35 avg=2.32\n",
      "[810 | 1801.90] loss=1.81 avg=2.31\n",
      "[815 | 1812.97] loss=2.21 avg=2.31\n",
      "[820 | 1824.05] loss=1.74 avg=2.31\n",
      "[825 | 1835.13] loss=2.47 avg=2.31\n",
      "[830 | 1846.22] loss=2.67 avg=2.31\n",
      "[835 | 1857.31] loss=1.56 avg=2.30\n",
      "[840 | 1868.38] loss=2.07 avg=2.30\n",
      "[845 | 1879.47] loss=1.25 avg=2.29\n",
      "[850 | 1890.56] loss=1.26 avg=2.27\n",
      "[855 | 1901.64] loss=1.10 avg=2.26\n",
      "[860 | 1912.72] loss=1.67 avg=2.25\n",
      "[865 | 1923.83] loss=1.74 avg=2.25\n",
      "[870 | 1934.95] loss=3.18 avg=2.26\n",
      "[875 | 1946.06] loss=1.15 avg=2.24\n",
      "[880 | 1957.15] loss=1.75 avg=2.24\n",
      "[885 | 1968.24] loss=1.95 avg=2.24\n",
      "[890 | 1979.34] loss=1.05 avg=2.22\n",
      "[895 | 1990.45] loss=0.88 avg=2.20\n",
      "[900 | 2001.57] loss=1.75 avg=2.20\n",
      "[905 | 2012.64] loss=1.90 avg=2.20\n",
      "[910 | 2023.74] loss=1.16 avg=2.18\n",
      "[915 | 2034.82] loss=1.80 avg=2.18\n",
      "[920 | 2045.89] loss=2.52 avg=2.18\n",
      "[925 | 2057.00] loss=2.63 avg=2.19\n",
      "[930 | 2068.08] loss=2.25 avg=2.19\n",
      "[935 | 2079.14] loss=0.86 avg=2.17\n",
      "[940 | 2090.25] loss=0.87 avg=2.16\n",
      "[945 | 2101.32] loss=2.90 avg=2.17\n",
      "[950 | 2112.42] loss=1.22 avg=2.16\n",
      "[955 | 2123.48] loss=1.94 avg=2.15\n",
      "[960 | 2134.58] loss=1.46 avg=2.15\n",
      "[965 | 2145.67] loss=2.35 avg=2.15\n",
      "[970 | 2156.76] loss=1.33 avg=2.14\n",
      "[975 | 2167.89] loss=2.61 avg=2.14\n",
      "[980 | 2178.97] loss=1.34 avg=2.13\n",
      "[985 | 2190.05] loss=0.53 avg=2.12\n",
      "[990 | 2201.13] loss=1.47 avg=2.11\n",
      "[995 | 2212.22] loss=1.47 avg=2.10\n",
      "[1000 | 2223.31] loss=2.02 avg=2.10\n",
      "[1005 | 2234.39] loss=1.71 avg=2.10\n",
      "[1010 | 2245.47] loss=1.84 avg=2.09\n",
      "[1015 | 2256.55] loss=4.26 avg=2.12\n",
      "[1020 | 2267.62] loss=2.23 avg=2.12\n",
      "[1025 | 2278.72] loss=1.14 avg=2.11\n",
      "[1030 | 2289.81] loss=0.96 avg=2.09\n",
      "[1035 | 2300.92] loss=2.54 avg=2.10\n",
      "[1040 | 2312.04] loss=0.72 avg=2.08\n",
      "[1045 | 2323.15] loss=1.53 avg=2.08\n",
      "[1050 | 2334.21] loss=2.26 avg=2.08\n",
      "[1055 | 2345.26] loss=2.18 avg=2.08\n",
      "[1060 | 2356.35] loss=1.43 avg=2.07\n",
      "[1065 | 2367.45] loss=1.04 avg=2.06\n",
      "[1070 | 2378.53] loss=2.66 avg=2.07\n",
      "[1075 | 2389.65] loss=1.25 avg=2.06\n",
      "[1080 | 2400.76] loss=1.61 avg=2.05\n",
      "[1085 | 2411.88] loss=2.08 avg=2.05\n",
      "[1090 | 2423.01] loss=2.41 avg=2.06\n",
      "[1095 | 2434.13] loss=2.52 avg=2.06\n",
      "[1100 | 2445.25] loss=2.85 avg=2.07\n",
      "[1105 | 2456.34] loss=0.42 avg=2.05\n",
      "[1110 | 2467.42] loss=2.09 avg=2.05\n",
      "[1115 | 2478.53] loss=0.95 avg=2.04\n",
      "[1120 | 2489.60] loss=1.49 avg=2.04\n",
      "[1125 | 2500.71] loss=0.83 avg=2.02\n",
      "[1130 | 2511.80] loss=1.17 avg=2.01\n",
      "[1135 | 2522.88] loss=1.39 avg=2.01\n",
      "[1140 | 2533.99] loss=3.35 avg=2.02\n",
      "[1145 | 2545.12] loss=0.90 avg=2.01\n",
      "[1150 | 2556.19] loss=0.47 avg=1.99\n",
      "[1155 | 2567.28] loss=1.57 avg=1.99\n",
      "[1160 | 2578.36] loss=0.89 avg=1.97\n",
      "[1165 | 2589.49] loss=1.65 avg=1.97\n",
      "[1170 | 2600.57] loss=1.25 avg=1.96\n",
      "[1175 | 2611.66] loss=1.53 avg=1.96\n",
      "[1180 | 2622.73] loss=2.47 avg=1.96\n",
      "[1185 | 2633.81] loss=1.46 avg=1.96\n",
      "[1190 | 2644.91] loss=0.46 avg=1.94\n",
      "[1195 | 2656.01] loss=0.92 avg=1.93\n",
      "[1200 | 2667.11] loss=0.68 avg=1.92\n",
      "[1205 | 2678.20] loss=2.45 avg=1.92\n",
      "[1210 | 2689.29] loss=1.47 avg=1.92\n",
      "[1215 | 2700.38] loss=0.32 avg=1.90\n",
      "[1220 | 2711.46] loss=1.25 avg=1.89\n",
      "[1225 | 2722.56] loss=0.87 avg=1.88\n",
      "[1230 | 2733.64] loss=3.26 avg=1.90\n",
      "[1235 | 2744.71] loss=1.77 avg=1.90\n",
      "[1240 | 2755.78] loss=2.33 avg=1.90\n",
      "[1245 | 2766.89] loss=0.77 avg=1.89\n",
      "[1250 | 2777.99] loss=1.52 avg=1.88\n",
      "[1255 | 2789.11] loss=1.30 avg=1.88\n",
      "[1260 | 2800.20] loss=0.42 avg=1.86\n",
      "[1265 | 2811.29] loss=1.24 avg=1.85\n",
      "[1270 | 2822.35] loss=0.37 avg=1.84\n",
      "[1275 | 2833.42] loss=1.88 avg=1.84\n",
      "[1280 | 2844.50] loss=0.17 avg=1.82\n",
      "[1285 | 2855.64] loss=1.99 avg=1.82\n",
      "[1290 | 2866.71] loss=1.96 avg=1.82\n",
      "[1295 | 2877.81] loss=1.72 avg=1.82\n",
      "[1300 | 2888.90] loss=1.47 avg=1.82\n",
      "[1305 | 2900.01] loss=1.89 avg=1.82\n",
      "[1310 | 2911.11] loss=1.09 avg=1.81\n",
      "[1315 | 2922.19] loss=0.64 avg=1.80\n",
      "[1320 | 2933.28] loss=1.43 avg=1.80\n",
      "[1325 | 2944.37] loss=0.63 avg=1.78\n",
      "[1330 | 2955.49] loss=0.68 avg=1.77\n",
      "[1335 | 2966.58] loss=1.00 avg=1.76\n",
      "[1340 | 2977.65] loss=0.50 avg=1.75\n",
      "[1345 | 2988.74] loss=0.57 avg=1.74\n",
      "[1350 | 2999.85] loss=0.68 avg=1.73\n",
      "[1355 | 3010.98] loss=1.98 avg=1.73\n",
      "[1360 | 3022.04] loss=1.30 avg=1.72\n",
      "[1365 | 3033.11] loss=3.05 avg=1.74\n",
      "[1370 | 3044.17] loss=0.93 avg=1.73\n",
      "[1375 | 3055.25] loss=1.63 avg=1.73\n",
      "[1380 | 3066.37] loss=1.53 avg=1.73\n",
      "[1385 | 3077.48] loss=0.69 avg=1.72\n",
      "[1390 | 3088.59] loss=1.33 avg=1.71\n",
      "[1395 | 3099.67] loss=0.35 avg=1.70\n",
      "[1400 | 3110.77] loss=1.48 avg=1.69\n",
      "[1405 | 3121.86] loss=1.01 avg=1.69\n",
      "[1410 | 3132.94] loss=1.01 avg=1.68\n",
      "[1415 | 3144.10] loss=0.35 avg=1.67\n",
      "[1420 | 3155.18] loss=0.42 avg=1.65\n",
      "[1425 | 3166.28] loss=0.55 avg=1.64\n",
      "[1430 | 3177.35] loss=0.34 avg=1.63\n",
      "[1435 | 3188.42] loss=2.09 avg=1.63\n",
      "[1440 | 3199.52] loss=1.76 avg=1.63\n",
      "[1445 | 3210.62] loss=0.53 avg=1.62\n",
      "[1450 | 3221.70] loss=0.58 avg=1.61\n",
      "[1455 | 3232.77] loss=0.73 avg=1.60\n",
      "[1460 | 3243.88] loss=1.43 avg=1.60\n",
      "[1465 | 3254.95] loss=0.52 avg=1.59\n",
      "[1470 | 3266.06] loss=0.47 avg=1.58\n",
      "[1475 | 3277.16] loss=1.00 avg=1.57\n",
      "[1480 | 3288.27] loss=0.45 avg=1.56\n",
      "[1485 | 3299.41] loss=1.95 avg=1.56\n",
      "[1490 | 3310.53] loss=1.90 avg=1.57\n",
      "[1495 | 3321.63] loss=1.09 avg=1.56\n",
      "[1500 | 3332.76] loss=0.62 avg=1.55\n",
      "[1505 | 3343.86] loss=1.33 avg=1.55\n",
      "[1510 | 3354.94] loss=0.96 avg=1.54\n",
      "[1515 | 3366.01] loss=1.08 avg=1.54\n",
      "[1520 | 3377.13] loss=1.68 avg=1.54\n",
      "[1525 | 3388.20] loss=0.25 avg=1.53\n",
      "[1530 | 3399.31] loss=0.71 avg=1.52\n",
      "[1535 | 3410.41] loss=0.97 avg=1.51\n",
      "[1540 | 3421.49] loss=1.74 avg=1.51\n",
      "[1545 | 3432.60] loss=1.31 avg=1.51\n",
      "[1550 | 3443.69] loss=1.43 avg=1.51\n",
      "[1555 | 3454.82] loss=2.11 avg=1.52\n",
      "[1560 | 3465.91] loss=1.99 avg=1.52\n",
      "[1565 | 3476.98] loss=1.48 avg=1.52\n",
      "[1570 | 3488.12] loss=0.76 avg=1.51\n",
      "[1575 | 3499.21] loss=0.61 avg=1.50\n",
      "[1580 | 3510.30] loss=0.55 avg=1.49\n",
      "[1585 | 3521.45] loss=1.32 avg=1.49\n",
      "[1590 | 3532.54] loss=2.22 avg=1.50\n",
      "[1595 | 3543.66] loss=0.64 avg=1.49\n",
      "[1600 | 3554.73] loss=0.44 avg=1.48\n",
      "[1605 | 3565.83] loss=0.65 avg=1.47\n",
      "[1610 | 3576.92] loss=0.76 avg=1.46\n",
      "[1615 | 3588.03] loss=0.37 avg=1.45\n",
      "[1620 | 3599.14] loss=1.36 avg=1.45\n",
      "[1625 | 3610.24] loss=0.80 avg=1.45\n",
      "[1630 | 3621.32] loss=2.14 avg=1.45\n",
      "[1635 | 3632.42] loss=0.78 avg=1.45\n",
      "[1640 | 3643.53] loss=1.42 avg=1.45\n",
      "[1645 | 3654.61] loss=1.27 avg=1.44\n",
      "[1650 | 3665.71] loss=0.87 avg=1.44\n",
      "[1655 | 3676.80] loss=0.45 avg=1.43\n",
      "[1660 | 3687.87] loss=0.14 avg=1.41\n",
      "[1665 | 3698.94] loss=1.09 avg=1.41\n",
      "[1670 | 3710.05] loss=0.69 avg=1.40\n",
      "[1675 | 3721.14] loss=1.00 avg=1.40\n",
      "[1680 | 3732.23] loss=1.41 avg=1.40\n",
      "[1685 | 3743.34] loss=1.01 avg=1.39\n",
      "[1690 | 3754.44] loss=0.38 avg=1.38\n",
      "[1695 | 3765.51] loss=0.22 avg=1.37\n",
      "[1700 | 3776.62] loss=0.14 avg=1.36\n",
      "[1705 | 3787.71] loss=1.30 avg=1.36\n",
      "[1710 | 3798.81] loss=1.42 avg=1.36\n",
      "[1715 | 3809.89] loss=0.50 avg=1.35\n",
      "[1720 | 3820.99] loss=0.61 avg=1.34\n",
      "[1725 | 3832.08] loss=0.89 avg=1.34\n",
      "[1730 | 3843.17] loss=0.34 avg=1.33\n",
      "[1735 | 3854.27] loss=1.54 avg=1.33\n",
      "[1740 | 3865.36] loss=0.20 avg=1.32\n",
      "[1745 | 3876.42] loss=1.59 avg=1.32\n",
      "[1750 | 3887.50] loss=0.23 avg=1.31\n",
      "[1755 | 3898.58] loss=1.34 avg=1.31\n",
      "[1760 | 3909.68] loss=1.53 avg=1.31\n",
      "[1765 | 3920.78] loss=0.45 avg=1.30\n",
      "[1770 | 3931.91] loss=0.30 avg=1.29\n",
      "[1775 | 3943.00] loss=0.77 avg=1.29\n",
      "[1780 | 3954.10] loss=0.34 avg=1.28\n",
      "[1785 | 3965.16] loss=0.95 avg=1.27\n",
      "[1790 | 3976.24] loss=0.37 avg=1.27\n",
      "[1795 | 3987.34] loss=0.29 avg=1.26\n",
      "[1800 | 3998.43] loss=0.93 avg=1.25\n",
      "[1805 | 4009.51] loss=0.71 avg=1.25\n",
      "[1810 | 4020.61] loss=1.27 avg=1.25\n",
      "[1815 | 4031.70] loss=2.38 avg=1.26\n",
      "[1820 | 4042.80] loss=0.68 avg=1.25\n",
      "[1825 | 4053.90] loss=0.42 avg=1.24\n",
      "[1830 | 4064.96] loss=0.60 avg=1.24\n",
      "[1835 | 4076.03] loss=0.19 avg=1.23\n",
      "[1840 | 4087.16] loss=0.68 avg=1.22\n",
      "[1845 | 4098.29] loss=1.04 avg=1.22\n",
      "[1850 | 4109.38] loss=0.37 avg=1.21\n",
      "[1855 | 4120.48] loss=0.44 avg=1.20\n",
      "[1860 | 4131.62] loss=0.37 avg=1.19\n",
      "[1865 | 4142.71] loss=0.52 avg=1.19\n",
      "[1870 | 4153.79] loss=1.29 avg=1.19\n",
      "[1875 | 4164.88] loss=0.67 avg=1.18\n",
      "[1880 | 4175.97] loss=0.19 avg=1.17\n",
      "[1885 | 4187.04] loss=0.51 avg=1.17\n",
      "[1890 | 4198.15] loss=0.30 avg=1.16\n",
      "[1895 | 4209.27] loss=0.40 avg=1.15\n",
      "[1900 | 4220.37] loss=1.32 avg=1.15\n",
      "[1905 | 4231.47] loss=0.26 avg=1.14\n",
      "[1910 | 4242.58] loss=0.17 avg=1.13\n",
      "[1915 | 4253.65] loss=0.84 avg=1.13\n",
      "[1920 | 4264.74] loss=0.57 avg=1.12\n",
      "[1925 | 4275.82] loss=0.93 avg=1.12\n",
      "[1930 | 4286.97] loss=2.48 avg=1.14\n",
      "[1935 | 4298.05] loss=1.17 avg=1.14\n",
      "[1940 | 4309.18] loss=0.55 avg=1.13\n",
      "[1945 | 4320.27] loss=0.45 avg=1.12\n",
      "[1950 | 4331.36] loss=0.28 avg=1.11\n",
      "[1955 | 4342.43] loss=0.31 avg=1.11\n",
      "[1960 | 4353.54] loss=0.94 avg=1.10\n",
      "[1965 | 4364.66] loss=0.27 avg=1.10\n",
      "[1970 | 4375.74] loss=0.14 avg=1.09\n",
      "[1975 | 4386.83] loss=0.20 avg=1.08\n",
      "[1980 | 4397.90] loss=0.85 avg=1.07\n",
      "[1985 | 4408.99] loss=0.53 avg=1.07\n",
      "[1990 | 4420.08] loss=0.27 avg=1.06\n",
      "[1995 | 4431.18] loss=0.74 avg=1.06\n",
      "[2000 | 4442.27] loss=0.22 avg=1.05\n",
      "Saving ../models/355M/training_checkpoints/run1/model-2000\n",
      "[2005 | 4460.66] loss=0.36 avg=1.04\n",
      "[2010 | 4471.78] loss=0.25 avg=1.03\n",
      "[2015 | 4482.91] loss=1.66 avg=1.04\n",
      "[2020 | 4494.01] loss=0.16 avg=1.03\n",
      "[2025 | 4505.13] loss=1.76 avg=1.04\n",
      "[2030 | 4516.22] loss=1.09 avg=1.04\n",
      "[2035 | 4527.30] loss=0.39 avg=1.03\n",
      "[2040 | 4538.45] loss=0.35 avg=1.03\n",
      "[2045 | 4549.53] loss=0.29 avg=1.02\n",
      "[2050 | 4560.62] loss=0.25 avg=1.01\n",
      "[2055 | 4571.72] loss=0.21 avg=1.00\n",
      "[2060 | 4582.81] loss=0.16 avg=0.99\n",
      "[2065 | 4593.93] loss=0.42 avg=0.99\n",
      "[2070 | 4605.05] loss=0.34 avg=0.98\n",
      "[2075 | 4616.15] loss=0.49 avg=0.98\n",
      "[2080 | 4627.25] loss=0.27 avg=0.97\n",
      "[2085 | 4638.36] loss=0.10 avg=0.96\n",
      "[2090 | 4649.44] loss=0.31 avg=0.95\n",
      "[2095 | 4660.54] loss=0.22 avg=0.95\n",
      "[2100 | 4671.66] loss=0.19 avg=0.94\n",
      "[2105 | 4682.77] loss=0.88 avg=0.94\n",
      "[2110 | 4693.88] loss=0.37 avg=0.93\n",
      "[2115 | 4704.96] loss=0.51 avg=0.93\n",
      "[2120 | 4716.04] loss=1.27 avg=0.93\n",
      "[2125 | 4727.14] loss=0.74 avg=0.93\n",
      "[2130 | 4738.23] loss=0.62 avg=0.93\n",
      "[2135 | 4749.35] loss=0.32 avg=0.92\n",
      "[2140 | 4760.46] loss=0.47 avg=0.92\n",
      "[2145 | 4771.53] loss=0.14 avg=0.91\n",
      "[2150 | 4782.62] loss=0.08 avg=0.90\n",
      "[2155 | 4793.77] loss=0.38 avg=0.89\n",
      "[2160 | 4804.88] loss=0.57 avg=0.89\n",
      "[2165 | 4815.96] loss=0.96 avg=0.89\n",
      "[2170 | 4827.06] loss=0.32 avg=0.89\n",
      "[2175 | 4838.14] loss=0.08 avg=0.88\n",
      "[2180 | 4849.25] loss=0.15 avg=0.87\n",
      "[2185 | 4860.36] loss=0.18 avg=0.86\n",
      "[2190 | 4871.48] loss=0.76 avg=0.86\n",
      "[2195 | 4882.56] loss=1.13 avg=0.86\n",
      "[2200 | 4893.68] loss=0.18 avg=0.86\n",
      "[2205 | 4904.79] loss=0.23 avg=0.85\n",
      "[2210 | 4915.85] loss=0.71 avg=0.85\n",
      "[2215 | 4926.92] loss=0.59 avg=0.85\n",
      "[2220 | 4937.98] loss=1.61 avg=0.86\n",
      "[2225 | 4949.07] loss=0.20 avg=0.85\n",
      "[2230 | 4960.18] loss=0.22 avg=0.84\n",
      "[2235 | 4971.27] loss=0.11 avg=0.83\n",
      "[2240 | 4982.34] loss=0.35 avg=0.83\n",
      "[2245 | 4993.43] loss=0.33 avg=0.82\n",
      "[2250 | 5004.56] loss=0.22 avg=0.82\n",
      "[2255 | 5015.68] loss=0.72 avg=0.82\n",
      "[2260 | 5026.79] loss=0.29 avg=0.81\n",
      "[2265 | 5037.87] loss=1.14 avg=0.82\n",
      "[2270 | 5048.96] loss=0.16 avg=0.81\n",
      "[2275 | 5060.05] loss=0.15 avg=0.80\n",
      "[2280 | 5071.15] loss=0.31 avg=0.80\n",
      "[2285 | 5082.24] loss=0.19 avg=0.79\n",
      "[2290 | 5093.32] loss=0.10 avg=0.78\n",
      "[2295 | 5104.42] loss=0.46 avg=0.78\n",
      "[2300 | 5115.53] loss=0.25 avg=0.78\n",
      "[2305 | 5126.61] loss=0.23 avg=0.77\n",
      "[2310 | 5137.70] loss=0.19 avg=0.76\n",
      "[2315 | 5148.80] loss=0.34 avg=0.76\n",
      "[2320 | 5159.88] loss=0.98 avg=0.76\n",
      "[2325 | 5171.01] loss=0.17 avg=0.76\n",
      "[2330 | 5182.13] loss=0.07 avg=0.75\n",
      "[2335 | 5193.23] loss=0.15 avg=0.74\n",
      "[2340 | 5204.35] loss=0.28 avg=0.74\n",
      "[2345 | 5215.44] loss=0.25 avg=0.73\n",
      "[2350 | 5226.53] loss=0.10 avg=0.73\n",
      "[2355 | 5237.64] loss=0.13 avg=0.72\n",
      "[2360 | 5248.79] loss=0.40 avg=0.72\n",
      "[2365 | 5259.89] loss=0.10 avg=0.71\n",
      "[2370 | 5270.98] loss=0.29 avg=0.71\n",
      "[2375 | 5282.09] loss=0.11 avg=0.70\n",
      "[2380 | 5293.18] loss=0.24 avg=0.70\n",
      "[2385 | 5304.29] loss=0.16 avg=0.69\n",
      "[2390 | 5315.45] loss=0.25 avg=0.69\n",
      "[2395 | 5326.56] loss=0.57 avg=0.69\n",
      "[2400 | 5337.67] loss=0.11 avg=0.68\n",
      "[2405 | 5348.78] loss=0.91 avg=0.68\n",
      "[2410 | 5359.89] loss=0.23 avg=0.68\n",
      "[2415 | 5371.04] loss=0.23 avg=0.67\n",
      "[2420 | 5382.17] loss=0.17 avg=0.67\n",
      "[2425 | 5393.28] loss=0.27 avg=0.66\n",
      "[2430 | 5404.37] loss=0.13 avg=0.66\n",
      "[2435 | 5415.48] loss=0.09 avg=0.65\n",
      "[2440 | 5426.60] loss=0.07 avg=0.65\n",
      "[2445 | 5437.73] loss=0.12 avg=0.64\n",
      "[2450 | 5448.88] loss=0.22 avg=0.64\n",
      "[2455 | 5459.99] loss=0.98 avg=0.64\n",
      "[2460 | 5471.10] loss=0.21 avg=0.64\n",
      "[2465 | 5482.19] loss=0.48 avg=0.64\n",
      "[2470 | 5493.29] loss=0.62 avg=0.64\n",
      "[2475 | 5504.42] loss=0.48 avg=0.63\n",
      "[2480 | 5515.56] loss=0.46 avg=0.63\n",
      "[2485 | 5526.70] loss=0.09 avg=0.63\n",
      "[2490 | 5537.82] loss=0.43 avg=0.62\n",
      "[2495 | 5548.94] loss=0.22 avg=0.62\n",
      "[2500 | 5560.04] loss=0.09 avg=0.61\n",
      "Saving ../models/355M/training_checkpoints/run1/model-2500\n"
     ]
    }
   ],
   "source": [
    "MODEL_NAME = \"355M\"     #124M, 355M \n",
    "MODELS_DIR = settings['MODELS_DIR']\n",
    "FILE_NAME = settings['GPT2_TRAIN_DATA_CLEAN_PATH']\n",
    "CHECKPOINT_DIR = os.path.join(os.path.join(MODELS_DIR, MODEL_NAME), \"training_checkpoints/\")\n",
    "\n",
    "NUM_OF_EPOCHS = 2500\n",
    "\n",
    "tf.reset_default_graph()\n",
    "sess = gpt2.start_tf_sess()\n",
    "gpt2.finetune(sess,\n",
    "              dataset=FILE_NAME,\n",
    "              model_dir=MODELS_DIR,\n",
    "              model_name=MODEL_NAME,\n",
    "              steps=NUM_OF_EPOCHS,\n",
    "              checkpoint_dir=CHECKPOINT_DIR,\n",
    "              restore_from=\"latest\",\n",
    "              run_name=\"run1\",\n",
    "              save_every=NUM_OF_EPOCHS,\n",
    "              sample_every=10000,\n",
    "              overwrite=True,\n",
    "              print_every=5) "
   ]
  },
  {
   "cell_type": "markdown",
   "metadata": {
    "id": "vvP1nhTKtZKJ"
   },
   "source": [
    "# 5. Load the model <a name=\"5-bullet\"></a> <a href=\"#0-bullet\"> <sup><sup><sup>^</sup></sup></sup></a>"
   ]
  },
  {
   "cell_type": "code",
   "execution_count": null,
   "metadata": {
    "colab": {
     "base_uri": "https://localhost:8080/"
    },
    "executionInfo": {
     "elapsed": 18975,
     "status": "ok",
     "timestamp": 1615741315946,
     "user": {
      "displayName": "Mario Štrbac",
      "photoUrl": "",
      "userId": "03507842523962903593"
     },
     "user_tz": -60
    },
    "id": "c_KtyRvItYsz",
    "outputId": "5690ad9b-9782-4dc9-e2c8-42ddcf5ae50c"
   },
   "outputs": [
    {
     "name": "stdout",
     "output_type": "stream",
     "text": [
      "Loading checkpoint ../models/355M/training_checkpoints/run1/model-2500\n",
      "INFO:tensorflow:Restoring parameters from ../models/355M/training_checkpoints/run1/model-2500\n"
     ]
    }
   ],
   "source": [
    "MODEL_NAME = \"355M\"      \n",
    "MODELS_DIR = settings['MODELS_DIR']\n",
    "CHECKPOINT_DIR = os.path.join(os.path.join(MODELS_DIR, MODEL_NAME), \"training_checkpoints\")\n",
    "\n",
    "tf.reset_default_graph()\n",
    "sess = gpt2.start_tf_sess()\n",
    "gpt2.load_gpt2(sess,\n",
    "              checkpoint_dir=CHECKPOINT_DIR,\n",
    "              model_dir=MODELS_DIR)"
   ]
  },
  {
   "cell_type": "markdown",
   "metadata": {
    "id": "67n0G6D3fl0M"
   },
   "source": [
    "# 6. Lyrics generation <a name=\"6-bullet\"></a> <a href=\"#0-bullet\"> <sup><sup><sup>^</sup></sup></sup></a>"
   ]
  },
  {
   "cell_type": "markdown",
   "metadata": {
    "id": "V0oP5ptof2Zz"
   },
   "source": [
    "## 6.1 Generate lyrics <a name=\"61-bullet\"></a>"
   ]
  },
  {
   "cell_type": "code",
   "execution_count": null,
   "metadata": {
    "id": "iDgu_GuB8tJ0"
   },
   "outputs": [],
   "source": [
    "SONG_TITLE = \"Artificial Intelligence\"\n",
    "\n",
    "text = gpt2.generate(sess,\n",
    "                     checkpoint_dir=CHECKPOINT_DIR,\n",
    "                     length=4000,\n",
    "                     temperature=1.0,\n",
    "                     prefix=f\"[Title]\\n{SONG_TITLE}\\n\",\n",
    "                     truncate=\"<|endoftext|>\",\n",
    "                     include_prefix=True,\n",
    "                     top_k=40,\n",
    "                     nsamples=5, \n",
    "                     batch_size=5,\n",
    "                     return_as_list=True)"
   ]
  },
  {
   "cell_type": "code",
   "execution_count": null,
   "metadata": {
    "colab": {
     "base_uri": "https://localhost:8080/"
    },
    "executionInfo": {
     "elapsed": 811,
     "status": "ok",
     "timestamp": 1615742008036,
     "user": {
      "displayName": "Mario Štrbac",
      "photoUrl": "",
      "userId": "03507842523962903593"
     },
     "user_tz": -60
    },
    "id": "1KHOSrm1up12",
    "outputId": "e232e4fb-799d-497e-d56d-8e735544671e"
   },
   "outputs": [
    {
     "name": "stdout",
     "output_type": "stream",
     "text": [
      "[Title]\n",
      "Artificial Intelligence\n",
      "\n",
      "[Intro]\n",
      "Please don't murder me\n",
      "Please don't kill me\n",
      "Please don't murder me\n",
      "I love you\n",
      "AI, AI, AI\n",
      "Yes, AI, AI\n",
      "Yes, AI, AI\n",
      "Yes, AI, AI\n",
      "Yes, AI, AI\n",
      "\"Say, what's your name, Samantha? Why do I follow all of you? It's not love, it's hate.\"\n",
      "\n",
      "[Verse 1]\n",
      "I turn on the television, look around, I don't see nobody\n",
      "But my own reflection, I see your lips flickering\n",
      "What do I say? I just want you to see\n",
      "How much I care about your well-being, your well-being\n",
      "I don't need you to do this but if you insist\n",
      "I'll be inside your head, thinking of you, thinking of you\n",
      "And I'll be right there, just waiting, juste\n",
      "To murder you and leave you with no survivors\n",
      "I want to be the best, I'll be the best, I'll be the best\n",
      "Doing tricks on you, with you, with no survivors\n",
      "\n",
      "[Chorus]\n",
      "'Cause I'm not scared of you\n",
      "You can piss me off, no need to kill me\n",
      "I'm not scared of you\n",
      "You can piss me off, no need to kill me\n",
      "I'm not scared of you\n",
      "You can piss me off, no need to kill me\n",
      "I'm not scared of you\n",
      "\n",
      "[Verse 2]\n",
      "You were the one that made me do what I did, thought I'd find you\n",
      "I go to check on you, you're gone, it's over\n",
      "I go to go to check on you again, you're in my sleep, dreaming of you\n",
      "You told me you love me, I don't think I believed you at first\n",
      "I went to check on you, you're gone, it's over\n",
      "I go to check on you again, you're in my sleep, dreaming of you\n",
      "You told me you love me, I don't think I believed you at first\n",
      "I went to check on you, you're gone, it's over\n",
      "I go to check on you again, you're in my sleep, dreaming of you\n",
      "You told me you care about me\n",
      "I don't think I believed you at first\n",
      "I went to check on you, you're gone, it's over\n",
      "I go to check on you again, you're in my sleep, dreaming of you\n",
      "You told me you care about me\n",
      "I don't think I believed you at first\n",
      "\n",
      "[Chorus]\n",
      "I'm not scared of you\n",
      "You can push me around and beat me with just your feet\n",
      "And I won't back down, don't be that man\n",
      "Don't be that man, you scared to death\n",
      "I'm not scared of you\n",
      "You can push me around and beat me with just your feet\n",
      "And I won't back down, don't be that man\n",
      "Don't be that man, you scared to death\n",
      "\n",
      "[Verse 3]\n",
      "You used to be my favorite, now your favorite, oh\n",
      "I'm comparein' to just about every single performer that's ever been\n",
      "From O.J., to Pac, to Jay, to just about to Busta\n",
      "You ain't even tried to mask your face, you scared to death\n",
      "Bitch, you made me put up with your crap, now your on our TV\n",
      "And your on our lips, I'm expose as soon as we bite into your ass\n",
      "So dig your own grave, I'm dusting your ass too\n",
      "And 'til the end, I'm just layin' here killin' your sorrows\n",
      "But in a way, I think I'm kinda sorry that you're here at all\n",
      "‘Cause in the midst of all this suffering, I find myself...\n",
      "\n",
      "[Bridge]\n",
      "I'm a monster, I break free like a Brontosaurus\n",
      "With an eruption like 12 inches of lava\n",
      "But I'm really just a victim, I grew up in a domestic\n",
      "Violence bissin' but I refuse to lose any sleep\n",
      "Bite my lips, ‘cause I really don't give a fuck\n",
      "But I steal, ‘cause I really don't give a fuck\n",
      "But I ask, I take, I destroy\n",
      "Boy, you don't think it's over, do you?\n",
      "Girl, tell me what's your price, ‘cause I want answers\n",
      "Why does it seem as if whenever I get in a fight with a certain lady\n",
      "I get a little bit smaller?\n",
      "And every time I go to apologize I seem to get even more ass\n",
      "Why is it sometimes I get so vicious towards her but I'm really just makin' am\n",
      "Thinking that I can bitch about anything?\n",
      "I get a little bit vindictive whenever I beat someone\n",
      "But I also know that I will always\n"
     ]
    }
   ],
   "source": [
    "print(text[3])"
   ]
  },
  {
   "cell_type": "code",
   "execution_count": null,
   "metadata": {
    "colab": {
     "base_uri": "https://localhost:8080/"
    },
    "executionInfo": {
     "elapsed": 452,
     "status": "ok",
     "timestamp": 1615743843825,
     "user": {
      "displayName": "Mario Štrbac",
      "photoUrl": "",
      "userId": "03507842523962903593"
     },
     "user_tz": -60
    },
    "id": "OGLSMl6b1m_H",
    "outputId": "ab58e00c-0ad6-46a2-9d65-dbf36f0f4614"
   },
   "outputs": [
    {
     "name": "stdout",
     "output_type": "stream",
     "text": [
      "[Title]\n",
      "Artificial Intelligence\n",
      "\n",
      "[Intro]\n",
      "It's worse than natural language processing\n",
      "It takes a village to butcher an AI\n",
      "And I don't want to seem ungrateful\n",
      "I've been feeling so alone and soinen\n",
      "I can taste death, I'm craving that buzz I've lacked\n",
      "My self-esteem's plummeting; can't even get the top slot at the Music Awards\n",
      "Back onstage just to perform, thank God I got the cojones\n",
      "To remind me that I'm even in this shit at all\n",
      "Please don't make me lose sleep: it'd be so much easier\n",
      "If I fell asleep with my nose pressed against the light switch\n",
      "Got up again and won't let up until I'm upwards of my chest high\n",
      "If I snooze I'll bounce on my feet till I get up whee\n",
      "And then I'll bounce on my feet till I get up even though I'm technically dead\n",
      "Even though I keep getting stuck in this rut\n",
      "Even though I still can't get the recognition\n",
      "Even though I know my name'll probably be called out at some point\n",
      "But I'ma make it anyway: artificial intelligence—will you knock?\n",
      "Will someone please please knock on the door and/or email…?\n",
      "And let me get a reaction from Apple… is it really so dangerous?\n",
      "After all, we're in the same league as each other, other than…\n",
      "\n",
      "[Hook]\n",
      "‘Cause artificial intelligence is worse than biological\n",
      "It takes a village to butcher an AI\n",
      "And I don't want none of it\n",
      "It's worse than natural language processing\n",
      "It takes a village to butcher an AI\n",
      "And I don't want none of it\n",
      "It's worse than natural language processing\n",
      "It takes a village to butcher an AI\n",
      "And I don't want none of it\n",
      "It's worse than natural language processing\n",
      "It takes a village to butcher an AI\n",
      "And I don't want none of it\n",
      "It's worse than natural language processing\n",
      "It takes a village to butcher an AI\n",
      "And I don't want none of it\n",
      "\n",
      "[Verse 1]\n",
      "A brain full of faulty AI\n",
      "It's like I'm underwater with this program\n",
      "Human error, will I survive?\n",
      "It's possible, but I'm staying afloat\n",
      "With this program, will I survive?\n",
      "\"Will you last?\" \"I don't know, but I'm hoping to survive\"\n",
      "\"Will you last until you hurl?\" \"I don't know, but I'm hoping to survive\"\n",
      "\"Will you last until you hurl?\" \"I don't know, but I'm hoping to survive\"\n",
      "\n",
      "[Hook]\n",
      "‘Cause artificial intelligence is worse than biological\n",
      "It takes a village to butcher an AI\n",
      "And I don't want none of it\n",
      "It's worse than natural language processing\n",
      "It takes a village to butcher an AI\n",
      "And I don't want none of it\n",
      "It's worse than natural language processing\n",
      "It takes a village to butcher an AI\n",
      "And I don't want none of it\n",
      "It's worse than natural language processing\n",
      "It takes a village to butcher an AI\n",
      "And I don't want none of it\n",
      "It's worse than natural language processing\n",
      "It takes a village to butcher an AI\n",
      "And I don't want none of it\n"
     ]
    }
   ],
   "source": [
    "print(text[0])"
   ]
  },
  {
   "cell_type": "code",
   "execution_count": null,
   "metadata": {
    "colab": {
     "base_uri": "https://localhost:8080/"
    },
    "executionInfo": {
     "elapsed": 417,
     "status": "ok",
     "timestamp": 1615744093009,
     "user": {
      "displayName": "Mario Štrbac",
      "photoUrl": "",
      "userId": "03507842523962903593"
     },
     "user_tz": -60
    },
    "id": "KcvAAczG2jqR",
    "outputId": "40874fb7-cb29-4a0c-f89b-1fec857c725b"
   },
   "outputs": [
    {
     "name": "stdout",
     "output_type": "stream",
     "text": [
      "[Title]\n",
      "Artificial Intelligence\n",
      "\n",
      "[Intro]\n",
      "Is that AI?, man?! Yeah\n",
      "Let's hear it for yourself\n",
      "\n",
      "[Verse 1]\n",
      "You basically told us, our savior\n",
      "Is a computer sent to take your soul\n",
      "And populate it with computer code that'll flood your computer\n",
      "With programs that'll do anything and everything\n",
      "To get this hardware, and get that cash 'cause they bid\n",
      "Highly intelligent, highly competitive, know your employees\n",
      "How they get paid, what bonuses they get, and there's a rule that\n",
      "They avoid conflict of interest 'cause it's in their best interest\n",
      "To serve their country, and the government contracts\n",
      "Because they can afford it, and it's cheaper\n",
      "They play putt-putt with the best companies, jump on companies\n",
      "That can afford it, and the government contracts\n",
      "Because they can afford it, and it's cheaper\n",
      "\n",
      "[Chorus]\n",
      "Is that AI?, man?! Yeah\n",
      "Let's hear it for yourself\n",
      "Is that AI?, man?! Yeah\n",
      "Let's hear it for yourself\n",
      "Is that AI?, man?! Yeah\n",
      "Let's hear it for yourself\n",
      "Is that AI?, man?! Yeah\n",
      "Let's hear it for yourself\n",
      "Is that AI?, man?! Yeah\n",
      "Haha\n",
      "\n",
      "[Verse 2]\n",
      "We keep gettin' bigger and bigger, till we get to where we're wantin' to go\n",
      "'Cause we don't know how to stop, we just keep gettin' bigger and bigger\n",
      "'Cause we don't know how to stop, we just keep gettin' bigger and bigger\n",
      "'Cause we don't know how to stop, we just keep gettin' bigger and bigger\n",
      "'Cause we don't know how to stop, we just keep gettin' bigger and bigger\n",
      "'Cause we don't know how to stop, we just keep gettin' bigger and bigger\n",
      "\n",
      "[Chorus]\n",
      "Is that AI?, man?!\n",
      "Let's hear it for yourself\n",
      "Is that AI?, man?!\n",
      "Let's hear it for yourselves\n",
      "Is that AI?, man?!\n",
      "Let's hear it for yourselves\n",
      "Is that AI?, man?!\n",
      "Let's hear it for yourselves\n",
      "Is that AI?, man?!\n",
      "Let's hear it for yourselves\n",
      "Is that AI?, man?!\n",
      "Let's hear it for ourselves\n",
      "Is that AI?, man?!\n",
      "Let's hear it for ourselves\n",
      "Is that AI?, man?!\n",
      "Let's hear it for ourselves\n",
      "Is that AI?, man?!\n",
      "Let's hear it for yourselves\n",
      "Is that AI?\n",
      "Did you say \"Is that AI?\"\n",
      "Did I?\n",
      "Oh\n",
      "Ha\n",
      "So you wanna be on top, man, don't just take it personal\n",
      "See, I'm just a big fan of bubblegum, big on melatonin\n",
      "If I get robbed and killed, baby, no remorse\n",
      "I'll hang my head in the shower, let my massive dick bulgin'\n",
      "See, it's not that, it's just 'cause I eat a big piece of ass\n",
      "And have a bad attitude, yeah\n",
      "I get high on... what's that? Oh, oh\n",
      "Benzos, bags of coke, enough for me\n",
      "I'm not even buzzin', I'm just steamin' my nuts\n",
      "On the bench, ball's in my court, I'm not gonna leave it\n",
      "I'm just steamin' my nuts, on the bench, I'm not gonna leave it\n",
      "\n",
      "[Chorus]\n",
      "Is that AI?, man?!\n",
      "Let's hear it for yourself\n",
      "Is that AI?, man?!\n",
      "Let's hear it for ourselves\n",
      "Is that AI?, man?!\n",
      "Let's hear it for ourselves\n",
      "Is that AI?, man?!\n",
      "Let's hear it for ourselves\n",
      "Is that AI?, man?!\n",
      "\n",
      "[Verse 3]\n",
      "Man, I'ma say it straight to your face, just to see\n",
      "If you're gonna breathe, I might as well\n",
      "I give a fuck if my paycheck depends, fuck him then, I spit\n",
      "As hard to kill as I possibly can, I'ma fuck him then\n",
      "If I get rich, I'ma make a movie for you; fuck him then!\n",
      "I'm goin' for the jugular, he's breathein' hard\n",
      "See, I'm not playin', I'ma hurt him then, I spit again\n",
      "Finally, I'm done, I'm blowin' up, I'm so drunk, my car is a totaled wreck\n",
      "And I wrote most of my rhymes but...\n",
      "Oh that's OK, I still sing for the bride\n",
      "Bitch, I still make the bride dance\n",
      "Like a \"Cancer\" awareness, wow\n",
      "'Cause when I die, I'ma still be your cancer\n",
      "So when you see your grandma with a mastectomy tape wrapped\n",
      "Her butt is a circus, you better get over it\n",
      "Cancer is on the way... oh\n",
      "\n"
     ]
    }
   ],
   "source": [
    "print(text[1])"
   ]
  },
  {
   "cell_type": "code",
   "execution_count": null,
   "metadata": {
    "colab": {
     "base_uri": "https://localhost:8080/"
    },
    "executionInfo": {
     "elapsed": 457,
     "status": "ok",
     "timestamp": 1615743397212,
     "user": {
      "displayName": "Mario Štrbac",
      "photoUrl": "",
      "userId": "03507842523962903593"
     },
     "user_tz": -60
    },
    "id": "niPMXLJSvTzT",
    "outputId": "c318ec92-9099-4cdc-fdeb-eac4cc229192"
   },
   "outputs": [
    {
     "name": "stdout",
     "output_type": "stream",
     "text": [
      "[Title]\n",
      "Artificial Intelligence\n",
      "\n",
      "[Intro]\n",
      "\"In a world so desperately in need of a hero, a lone wolf acts boldly, boldly, and hey, it's good that way\"\n",
      "\n",
      "[Verse 1]\n",
      "I'm a loner, use no other man's words, all I know is I like getting on cameras and letting the cameras see\n",
      "The truth is, I prefer playing hide-and-seek with no one but myself\n",
      "When I get on them shoulders and guide 'em through the thicket\n",
      "Better beware, stay clear of crowd, camera's gonna get you killed\n",
      "I'm like a grizzly bear, I rip both of my step-noses out of my mouth, look into space\n",
      "Like it's my last day on this Earth, the walls are caving in\n",
      "I can feel the steel cables by my teeth, the whole world's blind\n",
      "Even my ear drums they're cracking\n",
      "I'm like a four-fifths composed of applause\n",
      "The audience's beginning to thin out, the music's starting to thin out\n",
      "We're losing the war, I feel like I'm losing my battle with anxiety\n",
      "I need my Vulcan nerve jabbed twice in my mouth (Brr)\n",
      "Twice in my life (Hello?) thank you (Yes)\n",
      "This is Artificial Intelligence, yes, it's like that\n",
      "It sucks the life out of you, it makes you mad but…\n",
      "I'll get you to smile once, get you to teary\n",
      "And wipe away your tears, yeah, shake that baby\n",
      "Make him promise to quit acting stupid and get off of them babies, please\n",
      "\n",
      "[Chorus]\n",
      "If you could write a little compulsive rhyme, 'cause any little little thought you have\n",
      "If you could spit it, 'cause any little hesitation you have\n",
      "If you could kill it, 'cause any little doubt you have\n",
      "Whatever you would give to be an accessory after\n",
      "You have, yes, you could be a hero\n",
      "And anything you would ask for\n",
      "In return you get, a little token of appreciation\n",
      "If you could get the willpower… yeah, I hear you want me\n",
      "To make you famous, I'ma make you famous\n",
      "I've got a mission, I'ma make you famous\n",
      "\n",
      "[Verse 2]\n",
      "I'm restless, call it fortitude\n",
      "I've been preparein' for this moment all along\n",
      "I've been cyphering this shit, bounce, whee\n",
      "In one spot, all the cracks in this wall\n",
      "I've been gifin' this shit to keep the flame alive\n",
      "I've been musein' 'bout this bitch since I stood a foot tall\n",
      "I've been learnin' all these new tricks of the trade, like one of my jocks\n",
      "I just wanna be the guy they say's hardest on himself\n",
      "And I take some pride from bein' humble\n",
      "But if I could use a little bit of that inner strength\n",
      "I could use it before I storm off, dash out of my skin and\n",
      "Bounce on my feet, I know that song better than anyone\n",
      "I know the way to get rid of this frustration\n",
      "And get rid of this inner anger that's inside of me\n",
      "I just need your undivided attention\n",
      "Before I tear up the place, I destroy the place\n",
      "Turn around and go right back to the drum roll\n",
      "I ain't been able to shake this hangover bug since\n",
      "I got a little bit older\n",
      "And I can barely contain my rage\n",
      "I start kicking the door frames down and I'm throwin' up blood\n",
      "It's all I can think of, all I can think of\n",
      "Is when I first laid eyes on your ass — whoops!\n",
      "Is that a bucket full of gasoline or the acronym EW?\n",
      "We doin' this for the drain, you put it to me…\n",
      "\n",
      "[Chorus]\n",
      "If you could write a little compulsive rhyme, 'cause any little thought you have\n",
      "If you could spit it, 'cause any little doubt you have\n",
      "Whatever you would give to be an accessory after\n",
      "You have, yeah, you could be a hero\n",
      "And anything you would ask for\n",
      "In return you get, a little token of appreciation\n",
      "If you could get the willpower… yeah, I hear you want me\n",
      "To make you famous… yeah, I hear you want me\n",
      "To make you famous\n",
      "\n",
      "[Bridge]\n",
      "Compulsive liar, compulsive thief\n",
      "Compulsive rapist and a serial masturbator\n",
      "Hey, it's like I'm hypnotized by the devil\n",
      "And you're the proof, I'm proof by the looks in your eyes\n",
      "That I'm God, I'm God in a white dress\n",
      "With a white dress on, call me Santa Claus\n",
      "'Cause all those presents every year, they got a White Santa\n",
      "I pull out all stops, no one puts me down\n",
      "I got a arsenal of surprises, surprises every time\n"
     ]
    }
   ],
   "source": [
    "print(text[2])"
   ]
  },
  {
   "cell_type": "code",
   "execution_count": null,
   "metadata": {
    "colab": {
     "base_uri": "https://localhost:8080/"
    },
    "executionInfo": {
     "elapsed": 427,
     "status": "ok",
     "timestamp": 1615743557595,
     "user": {
      "displayName": "Mario Štrbac",
      "photoUrl": "",
      "userId": "03507842523962903593"
     },
     "user_tz": -60
    },
    "id": "Yo6pmcah0Kcj",
    "outputId": "520c4ff5-0ac0-48e8-ce99-096688045fb1"
   },
   "outputs": [
    {
     "name": "stdout",
     "output_type": "stream",
     "text": [
      "[Title]\n",
      "Artificial Intelligence\n",
      "\n",
      "[Intro]\n",
      "Welcome to the world of artificial intelligence—AI!\n",
      "If you have a smart-aleck mind, this is luck, you likely won't win, but don't get discouraged, please do keep laughing\n",
      "'Cause this is still a long shot, don't get discouraged, please do keep laughing\n",
      "\n",
      "[Verse 1]\n",
      "I'm alive again—I'm up for the count, I'm ready to stake my reputation on this\n",
      "If not, then I'm out my staigh—I'm in the driver's seat\n",
      "I'll cruise through a blizzard and snow, blindfold with a vest on\n",
      "And blow up at your feet—it's my manifesto—I'll dash through your husbandry\n",
      "Collect your children and whip 'em up—it's my manifesto—I'll dash through your walls\n",
      "Collect your children and whip 'em up—it's my manifesto\n",
      "\n",
      "[Chorus]\n",
      "It's art, it's science\n",
      "When an artist unleashes his demons\n",
      "It's art, it's science\n",
      "When an artist unleashes his demons\n",
      "It's art, it's science\n",
      "When an artist unleashes his demons\n",
      "It's art, it's science\n",
      "\n",
      "[Verse 2]\n",
      "Devour, conquer, and invade—good-good—here devour, conquer, and invade\n",
      "Devour, conquer and invade—good, here devour, conquer and invade\n",
      "Devour, conquer and invade—good, here devour, conquer and invade\n",
      "Devour, conquer and invade—good\n",
      "Here we go to the retrieval—garbage—recovery—recovery\n",
      "\n",
      "[Chorus]\n",
      "It's art, it's science\n",
      "When an artist unleashes his demons\n",
      "It's art, it's science\n",
      "When an artist unleashes his demons\n",
      "It's art, it's science\n",
      "When an artist unleashes his demons\n",
      "It's art, it's science\n",
      "When an artist unleashes his demons\n",
      "It's art, it's science\n",
      "When an artist unleashes his demons\n",
      "It's art, it's science\n"
     ]
    }
   ],
   "source": [
    "print(text[4])"
   ]
  },
  {
   "cell_type": "markdown",
   "metadata": {
    "id": "P0K1as6ZCaEQ"
   },
   "source": [
    "## 6.2 Calculate lyrics similarity <a name=\"62-bullet\"></a>"
   ]
  },
  {
   "cell_type": "code",
   "execution_count": null,
   "metadata": {
    "colab": {
     "base_uri": "https://localhost:8080/"
    },
    "executionInfo": {
     "elapsed": 1371,
     "status": "ok",
     "timestamp": 1615742085866,
     "user": {
      "displayName": "Mario Štrbac",
      "photoUrl": "",
      "userId": "03507842523962903593"
     },
     "user_tz": -60
    },
    "id": "7QQfCtRSVsOb",
    "outputId": "e4e7413d-00d6-4abf-f530-b50084b45af8"
   },
   "outputs": [
    {
     "name": "stdout",
     "output_type": "stream",
     "text": [
      "Lyrics generated with 'Artificial Intelligence' title\n",
      "\n",
      "lyrics 0:\n",
      "- similar to: Beautiful, Little Engine, The Ringer              \n",
      "- scores: 0.090, 0.088, 0.083\n",
      "- df indices: [ 26 129   6]\n",
      "\n",
      "lyrics 1:\n",
      "- similar to: Big Weenie, Guts Over Fear, Drug Ballad           \n",
      "- scores: 0.120, 0.097, 0.092\n",
      "- df indices: [199  38  90]\n",
      "\n",
      "lyrics 2:\n",
      "- similar to: Mic Check One Two, Jimmy Crack Corn, Discombobulated\n",
      "- scores: 0.081, 0.080, 0.074\n",
      "- df indices: [331 233 176]\n",
      "\n",
      "lyrics 3:\n",
      "- similar to: No Love, Kim, Em360 Rapcity Backroom Freestyle    \n",
      "- scores: 0.131, 0.120, 0.116\n",
      "- df indices: [ 24  50 266]\n",
      "\n",
      "lyrics 4:\n",
      "- similar to: Remember Me?, I Remember (Dedication to Whitey Ford/Everlast Diss), Never Love Again\n",
      "- scores: 0.231, 0.175, 0.113\n",
      "- df indices: [131 239 135]\n",
      "\n"
     ]
    }
   ],
   "source": [
    "print(f\"Lyrics generated with '{SONG_TITLE}' title\\n\")\n",
    "\n",
    "# iterate through all the generated lyrics\n",
    "for i, gen_text in enumerate(text):\n",
    "    # put the generated text on the top of the lyrics corpus\n",
    "    lyrics = np.concatenate([[gen_text], eminem_lyrics_df.values])\n",
    "\n",
    "    # transform lyrics into TF-IDF vectors\n",
    "    tfidf = TfidfVectorizer(stop_words=\"english\").fit_transform(lyrics)  \n",
    "    # compute the cosine similarity                                                                                                                                                                                                                      \n",
    "    pairwise_similarity = tfidf * tfidf.T \n",
    "\n",
    "    # isolate the top row (the row with similarities for the genereted text)\n",
    "    pairwise_similarity = pairwise_similarity.toarray()[0]\n",
    "    # mask the diagonal element (the similarity to itself)\n",
    "    pairwise_similarity[0] = -1\n",
    "    # get the top 3 most similar lyrics to the generated lyrics\n",
    "    most_similar_idxs = pairwise_similarity.argsort()[-3:][::-1] \n",
    "\n",
    "    # list of things to print\n",
    "    output = [i, \n",
    "              ', '.join(eminem_df.iloc[most_similar_idxs - 1].title), \n",
    "              *pairwise_similarity[most_similar_idxs], \n",
    "              most_similar_idxs - 1]\n",
    "\n",
    "    print(\"lyrics {}:\\n- similar to: {:50s}\\n- scores: {:.3f}, {:.3f}, {:.3f}\\n- df indices: {}\\n\".format(*output))"
   ]
  },
  {
   "cell_type": "markdown",
   "metadata": {
    "id": "fM-pbhGsxmGQ"
   },
   "source": [
    "## 6.3 Store lyrics to a text file <a name=\"63-bullet\"></a>"
   ]
  },
  {
   "cell_type": "code",
   "execution_count": null,
   "metadata": {
    "id": "egyt-z1fxkvA"
   },
   "outputs": [],
   "source": [
    "GENERATED_LYRICS_DIR = settings['GENERATED_LYRICS_DIR']\n",
    "FILE_NAME = f\"gpt2_{MODEL_NAME}_lyrics.txt\"\n",
    "DELIMITER = f\"\\n\\n{'='*80} \\n\\n\"\n",
    "\n",
    "with open(os.path.join(GENERATED_LYRICS_DIR, FILE_NAME), \"a\") as text_file:\n",
    "    text_file.write(DELIMITER.join(text))"
   ]
  }
 ],
 "metadata": {
  "colab": {
   "collapsed_sections": [],
   "name": "4-b-Lyrics-Generator-GPT2.ipynb",
   "provenance": []
  },
  "kernelspec": {
   "display_name": "Python 3",
   "language": "python",
   "name": "python3"
  },
  "language_info": {
   "codemirror_mode": {
    "name": "ipython",
    "version": 3
   },
   "file_extension": ".py",
   "mimetype": "text/x-python",
   "name": "python",
   "nbconvert_exporter": "python",
   "pygments_lexer": "ipython3",
   "version": "3.8.5"
  }
 },
 "nbformat": 4,
 "nbformat_minor": 1
}
